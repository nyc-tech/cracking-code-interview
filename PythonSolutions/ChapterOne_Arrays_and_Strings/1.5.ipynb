{
 "cells": [
  {
   "cell_type": "markdown",
   "metadata": {},
   "source": [
    "Problem Statement:\n",
    "\n",
    "There are three types of edits that can be performed on strings:\n",
    "insert a character, remove a character, or replace a character.\n",
    "Given two strings, write a function to check if they are one edit (or zero edits) away.\n",
    "\n",
    "Example:\n",
    "\n",
    "pale, ple -> true\n",
    "\n",
    "pales, pale -> true\n",
    "\n",
    "pale, bale -> true\n",
    "\n",
    "pale, bae -> false"
   ]
  },
  {
   "cell_type": "code",
   "execution_count": 1,
   "metadata": {},
   "outputs": [],
   "source": [
    "def search_insertion(s1, s2):\n",
    "    assert(abs(len(s1) - len(s2)) == 1)\n",
    "    i1 = i2 = 0  # initialize search indices\n",
    "    difference_found = False\n",
    "    while i1 < len(s1) and i2 < len(s2):\n",
    "        if s1[i1] != s2[i2]:\n",
    "            if difference_found:  # if a difference has already been found, return false\n",
    "                return False\n",
    "            difference_found = True\n",
    "            if len(s1) > len(s2):  # if first difference found, assume we've found the place where a char was inserted\n",
    "                i1 += 1\n",
    "            else:\n",
    "                i2 += 1\n",
    "        else:  # if no difference found, continue traversing as normal\n",
    "            i1 += 1\n",
    "            i2 += 1\n",
    "    return True"
   ]
  },
  {
   "cell_type": "code",
   "execution_count": 2,
   "metadata": {},
   "outputs": [],
   "source": [
    "def search_replacement(s1, s2):\n",
    "    assert(len(s1) == len(s2))\n",
    "    i = 0\n",
    "    difference_found = False\n",
    "    while i < len(s1):\n",
    "        if s1[i] != s2[i]:\n",
    "            if difference_found:  # if a difference has already been found, return False\n",
    "                return False\n",
    "            difference_found = True\n",
    "        i += 1\n",
    "    return True\n"
   ]
  },
  {
   "cell_type": "code",
   "execution_count": null,
   "metadata": {},
   "outputs": [],
   "source": [
    "def one_away(s1, s2):\n",
    "    len_difference = abs(len(s1) - len(s2))\n",
    "    if len_difference > 1:\n",
    "        return False  # different by more than 1 edit\n",
    "    if len_difference == 1:\n",
    "        return search_insertion(s1, s2)\n",
    "    return search_replacement(s1, s2)"
   ]
  }
 ],
 "metadata": {
  "kernelspec": {
   "display_name": "Python 3",
   "language": "python",
   "name": "python3"
  },
  "language_info": {
   "codemirror_mode": {
    "name": "ipython",
    "version": 3
   },
   "file_extension": ".py",
   "mimetype": "text/x-python",
   "name": "python",
   "nbconvert_exporter": "python",
   "pygments_lexer": "ipython3",
   "version": "3.7.1"
  }
 },
 "nbformat": 4,
 "nbformat_minor": 2
}
