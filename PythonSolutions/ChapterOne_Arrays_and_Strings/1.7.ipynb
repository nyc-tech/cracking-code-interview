{
 "cells": [
  {
   "cell_type": "markdown",
   "metadata": {},
   "source": [
    "Problem Statement:\n",
    "\n",
    "Given an image represented by an NxN matrix, where each pixel in the image is 4 bytes,\n",
    "write a method to rotate the image by 90 degrees. Can you do this in place?\n",
    "\n",
    "Example:\n",
    "[1,2,3,       [7,4,1,\n",
    " \n",
    "4,5,6,   ->   8,5,2,\n",
    " \n",
    "7,8,9]        9,6,3]\n"
   ]
  },
  {
   "cell_type": "code",
   "execution_count": null,
   "metadata": {},
   "outputs": [],
   "source": [
    "import math\n",
    "\n",
    "def rotate_matrix(matrix):\n",
    "    # assume clockwise rotation\n",
    "    N, M = matrix.shape\n",
    "    assert(N == M)  # must be NxN matrix\n",
    "    for l in range(math.floor(N / 2)): # or // for floring Thanks Ed!\n",
    "        for i in range(l, N - 1 - l):\n",
    "            # from top row to right column\n",
    "            right_col_temp = matrix[i, - 1 - l]  # save first number from right column\n",
    "            matrix[i, - 1 - l] = matrix[l, i]\n",
    "\n",
    "            # from left column to top row\n",
    "            matrix[l, i] = matrix[N - 1 - i, l]\n",
    "\n",
    "            # from bottom row to left column\n",
    "            matrix[N - 1 - i, l] = matrix[-1 - l, N - 1 - i]\n",
    "\n",
    "            # from right column to bottom row\n",
    "            matrix[-1 - l, N - 1 - i] = right_col_temp\n",
    "    return matrix"
   ]
  }
 ],
 "metadata": {
  "kernelspec": {
   "display_name": "Python 3",
   "language": "python",
   "name": "python3"
  },
  "language_info": {
   "codemirror_mode": {
    "name": "ipython",
    "version": 3
   },
   "file_extension": ".py",
   "mimetype": "text/x-python",
   "name": "python",
   "nbconvert_exporter": "python",
   "pygments_lexer": "ipython3",
   "version": "3.7.1"
  }
 },
 "nbformat": 4,
 "nbformat_minor": 2
}
