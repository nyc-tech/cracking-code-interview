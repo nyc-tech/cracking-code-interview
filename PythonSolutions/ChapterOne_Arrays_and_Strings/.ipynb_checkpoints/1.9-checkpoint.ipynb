{
 "cells": [
  {
   "cell_type": "markdown",
   "metadata": {},
   "source": [
    "Problem Statement:\n",
    "\n",
    "Assume you have a method isSubstring() which checks if one word is a substring of\n",
    "another. Given two strings, s1 and s2, write code to check if s2 is a rotation of s1 using\n",
    "only one call to isSubstring().\n",
    "\n",
    "Example:\n",
    "stringRotation(\"waterbottle\", \"erbottlewat\")\n"
   ]
  },
  {
   "cell_type": "code",
   "execution_count": null,
   "metadata": {},
   "outputs": [],
   "source": [
    "def is_substring(s1, s2):\n",
    "    return s1 in s2\n",
    "\n",
    "\n",
    "def string_rotation(s1, s2):\n",
    "    return is_substring(s2, s1 + s1)"
   ]
  }
 ],
 "metadata": {
  "kernelspec": {
   "display_name": "Python 3",
   "language": "python",
   "name": "python3"
  },
  "language_info": {
   "codemirror_mode": {
    "name": "ipython",
    "version": 3
   },
   "file_extension": ".py",
   "mimetype": "text/x-python",
   "name": "python",
   "nbconvert_exporter": "python",
   "pygments_lexer": "ipython3",
   "version": "3.7.1"
  }
 },
 "nbformat": 4,
 "nbformat_minor": 2
}
