{
 "cells": [
  {
   "cell_type": "markdown",
   "metadata": {},
   "source": [
    "Problem Statement:\n",
    "\n",
    "Implement a method to perform basic string compression using the counts of repeated characters. For instance,\n",
    "the string aabcccccaaa would become a2b1c5a3. If the \"compressed\" string would not become smaller than the\n",
    "original string, your method should return the original string. You can assume the string has only uppercase\n",
    "and lowercase letters (a - z).\n",
    "\n",
    "Example:\n",
    "aabcccccaaa -> a2b1c5a3"
   ]
  },
  {
   "cell_type": "code",
   "execution_count": 1,
   "metadata": {},
   "outputs": [],
   "source": [
    "def compute_compressed_length(string):\n",
    "    if string is None:\n",
    "        return 0\n",
    "    if len(string) == 1:\n",
    "        return 2\n",
    "    compressed_length = 1\n",
    "    num_dupes = 1\n",
    "    for i in range(1, len(string)):\n",
    "        if string[i] == string[i - 1]:\n",
    "            num_dupes += 1\n",
    "        else:\n",
    "            compressed_length += (1 + len(str(num_dupes)))  # increase length by 1 letter + number of digits in num_dupes\n",
    "            num_dupes = 1\n",
    "    return compressed_length"
   ]
  },
  {
   "cell_type": "code",
   "execution_count": null,
   "metadata": {},
   "outputs": [],
   "source": [
    "def string_compression(string):\n",
    "    if string is None:\n",
    "        return None\n",
    "    if len(string) <= compute_compressed_length(string):\n",
    "        return string\n",
    "    compressed = string[0]\n",
    "    num_dupes = 1\n",
    "    for i in range(1, len(string)):\n",
    "        if string[i] == string[i-1]:\n",
    "            num_dupes += 1\n",
    "        else:\n",
    "            compressed += str(num_dupes) + string[i]\n",
    "            num_dupes = 1\n",
    "    compressed += str(num_dupes)\n",
    "    return compressed"
   ]
  }
 ],
 "metadata": {
  "kernelspec": {
   "display_name": "Python 3",
   "language": "python",
   "name": "python3"
  },
  "language_info": {
   "codemirror_mode": {
    "name": "ipython",
    "version": 3
   },
   "file_extension": ".py",
   "mimetype": "text/x-python",
   "name": "python",
   "nbconvert_exporter": "python",
   "pygments_lexer": "ipython3",
   "version": "3.7.1"
  }
 },
 "nbformat": 4,
 "nbformat_minor": 2
}
