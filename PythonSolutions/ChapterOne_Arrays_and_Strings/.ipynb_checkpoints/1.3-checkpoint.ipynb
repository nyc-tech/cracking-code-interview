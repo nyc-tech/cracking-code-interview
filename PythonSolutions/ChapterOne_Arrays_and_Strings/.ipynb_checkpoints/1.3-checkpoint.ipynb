{
 "cells": [
  {
   "cell_type": "markdown",
   "metadata": {},
   "source": [
    "Problem Statement:\n",
    "\n",
    "Write a method to replace all spaces in a string with '%20: You may assume that the string\n",
    "has sufficient space at the end to hold the additional characters, and that you are given the\n",
    "\"true\" length of the string.\n",
    "\n",
    "Example:\n",
    "'Mr. John Smith' -> 'Mr.%20John%20Smith%20'"
   ]
  },
  {
   "cell_type": "code",
   "execution_count": null,
   "metadata": {},
   "outputs": [],
   "source": [
    "# in Python, strings are immutable, thus we are forced to implement with lists of single characters\n",
    "def url_ify(string):\n",
    "    # compute length of new string based on # of spaces in input string\n",
    "    new_len = 0\n",
    "    reader = len(string) - 1  # index at end of un-extended string\n",
    "    for char in string:\n",
    "        if char == ' ':\n",
    "            new_len += 3\n",
    "        else:\n",
    "            new_len += 1\n",
    "    # extend length of string to fit URL\n",
    "    string += [' '] * (new_len - len(string))\n",
    "    writer = len(string) - 1  # index at end of extended string\n",
    "    # traverse using double index technique to do this \"in place\"\n",
    "    while reader >= 0 and writer >= 0:\n",
    "        if string[reader] == ' ':  # if reader sees a space, the writer writes %20\n",
    "            string[writer] = '0'\n",
    "            string[writer - 1] = '2'\n",
    "            string[writer - 2] = '%'\n",
    "            reader -= 1  # reader and writer are advanced accordingly\n",
    "            writer -= 3\n",
    "        else:\n",
    "            string[writer] = string[reader]  # if the reader sees a non-space, the writer copies it over\n",
    "            reader -= 1  # reader and writer are advanced the same amount\n",
    "            writer -= 1"
   ]
  }
 ],
 "metadata": {
  "kernelspec": {
   "display_name": "Python 3",
   "language": "python",
   "name": "python3"
  },
  "language_info": {
   "codemirror_mode": {
    "name": "ipython",
    "version": 3
   },
   "file_extension": ".py",
   "mimetype": "text/x-python",
   "name": "python",
   "nbconvert_exporter": "python",
   "pygments_lexer": "ipython3",
   "version": "3.7.1"
  }
 },
 "nbformat": 4,
 "nbformat_minor": 2
}
