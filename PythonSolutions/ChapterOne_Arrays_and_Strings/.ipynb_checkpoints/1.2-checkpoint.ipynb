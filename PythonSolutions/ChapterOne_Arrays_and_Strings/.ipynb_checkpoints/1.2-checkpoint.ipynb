{
 "cells": [
  {
   "cell_type": "markdown",
   "metadata": {},
   "source": [
    "Problem Statement:\n",
    "\n",
    "Given two strings, write a method to decide if one is a permutation of the\n",
    "other.\n",
    "\n",
    "Example:\n",
    "(\"alex\", \"lexa\") -> True"
   ]
  },
  {
   "cell_type": "code",
   "execution_count": 1,
   "metadata": {},
   "outputs": [],
   "source": [
    "def are_permutations(s1, s2):\n",
    "    if len(s1) != len(s2):  # unequal length means not permutations\n",
    "        return False\n",
    "    \n",
    "    character_counts = 128 * [0]  # create counts vector\n",
    "    for char in s1: \n",
    "        idx = ord(char)\n",
    "        character_counts[idx] += 1  # count the number of each letter\n",
    "    for char in s2: \n",
    "        idx = ord(char)\n",
    "        character_counts[idx] -= 1\n",
    "        if character_counts[idx] < 0:\n",
    "            return False\n",
    "    return True"
   ]
  }
 ],
 "metadata": {
  "kernelspec": {
   "display_name": "Python 3",
   "language": "python",
   "name": "python3"
  },
  "language_info": {
   "codemirror_mode": {
    "name": "ipython",
    "version": 3
   },
   "file_extension": ".py",
   "mimetype": "text/x-python",
   "name": "python",
   "nbconvert_exporter": "python",
   "pygments_lexer": "ipython3",
   "version": "3.7.1"
  }
 },
 "nbformat": 4,
 "nbformat_minor": 2
}
