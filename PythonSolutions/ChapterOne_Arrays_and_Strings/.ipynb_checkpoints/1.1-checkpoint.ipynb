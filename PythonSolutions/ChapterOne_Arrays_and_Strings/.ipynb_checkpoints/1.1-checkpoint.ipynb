{
 "cells": [
  {
   "cell_type": "markdown",
   "metadata": {},
   "source": [
    "#### Problem Statment:\n",
    "Is Unique: Implement an algorithm to determine if a string has all unique characters. What if you cannot use additional data structures? "
   ]
  },
  {
   "cell_type": "markdown",
   "metadata": {},
   "source": [
    "##### Example:\n",
    "'kkkkennedy' -> False "
   ]
  },
  {
   "cell_type": "markdown",
   "metadata": {},
   "source": [
    "#### Pseudocode Solution:\n",
    "With the assumption that the string is compound by only ASCII characters loop through the string one character at a time and alocate the return characters to a variable called 'hash_table'. In case a character returns for a second time, return False. On the other hand, if no character returns more than once, return True. Based on the our first assumption, we can implement the hash table as\n",
    "a 128-wide bit vector that uses a character's ASCII value as its hash code."
   ]
  },
  {
   "cell_type": "markdown",
   "metadata": {},
   "source": [
    "Time complexity: O(N) where N is the length of the of the linearly traversed string.\n",
    "\n",
    "Space complexity: O(1) because bit vector size does not scale with input string length.\n"
   ]
  },
  {
   "cell_type": "code",
   "execution_count": 1,
   "metadata": {},
   "outputs": [],
   "source": [
    "def is_unique(input_string):\n",
    "    hash_table = [False]*128  # hash table implemented as 128 bit vector\n",
    "    for character in input_string:  # inspect each character\n",
    "        idx = ord(character)  # convert character into its ASCII value\n",
    "        if hash_table[idx]:  # check if bit at this ASCII value is True\n",
    "            return False\n",
    "        hash_table[idx] = True  # add unobserved character to hash table\n",
    "    return True"
   ]
  }
 ],
 "metadata": {
  "kernelspec": {
   "display_name": "Python 3",
   "language": "python",
   "name": "python3"
  },
  "language_info": {
   "codemirror_mode": {
    "name": "ipython",
    "version": 3
   },
   "file_extension": ".py",
   "mimetype": "text/x-python",
   "name": "python",
   "nbconvert_exporter": "python",
   "pygments_lexer": "ipython3",
   "version": "3.7.1"
  }
 },
 "nbformat": 4,
 "nbformat_minor": 2
}
