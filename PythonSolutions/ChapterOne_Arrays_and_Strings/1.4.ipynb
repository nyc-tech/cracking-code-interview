{
 "cells": [
  {
   "cell_type": "markdown",
   "metadata": {},
   "source": [
    "Problem Statement:\n",
    "\n",
    "Given a string, write a function to check if it is a permutation of a palindrome. A palindrome is a word or\n",
    "phrase that is the same forwards and backwards. A permutation is a rearrangement of letters. The palindrome does\n",
    "not need to be limited to just dictionary words.\n",
    "\n",
    "Example:\n",
    "\"tact coa\" -> True (permutations: \"tacocat\", \"atcocta\", etc.)"
   ]
  },
  {
   "cell_type": "code",
   "execution_count": null,
   "metadata": {},
   "outputs": [],
   "source": [
    "def pp(string):\n",
    "    if string is None:\n",
    "        return True\n",
    "    bit_vector = 128*[False]  # create bit vector whose indices correspond to ASCII values\n",
    "    num_valid_chars = 0  # count the number of non-space characters\n",
    "    for char in string:  # traverse string one char at a time\n",
    "        if 0 <= ord(char) <= 127 and char != ' ':  # if char is a non-space ...\n",
    "            num_valid_chars += 1\n",
    "            bit_vector[ord(char)] = not bit_vector[ord(char)]  # flip the bit corresponding to the character\n",
    "    if num_valid_chars % 2 == 0:  # even length. expect all chars to have even value i.e. False\n",
    "        return sum(bit_vector) == 0\n",
    "    return sum(bit_vector) == 1  # odd length. expect all chars except 1 to have even value i.e. False"
   ]
  }
 ],
 "metadata": {
  "kernelspec": {
   "display_name": "Python 3",
   "language": "python",
   "name": "python3"
  },
  "language_info": {
   "codemirror_mode": {
    "name": "ipython",
    "version": 3
   },
   "file_extension": ".py",
   "mimetype": "text/x-python",
   "name": "python",
   "nbconvert_exporter": "python",
   "pygments_lexer": "ipython3",
   "version": "3.7.1"
  }
 },
 "nbformat": 4,
 "nbformat_minor": 2
}
