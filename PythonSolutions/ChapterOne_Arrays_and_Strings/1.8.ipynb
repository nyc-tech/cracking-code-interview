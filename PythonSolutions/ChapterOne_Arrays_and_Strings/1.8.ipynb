{
 "cells": [
  {
   "cell_type": "markdown",
   "metadata": {},
   "source": [
    "Problem Statement:\n",
    "\n",
    "Write an algorithm such that if an element in an MxN matrix is 0, its entire\n",
    "row and column are set to 0.\n",
    "\n",
    "Example:\n",
    "\n",
    "[1, 2, 0, 4,      [0, 0, 0, 0,\n",
    " \n",
    " 1, 2, 3, 4,  ->   0, 2, 0, 4,\n",
    " \n",
    " 0, 2, 3, 4]       0, 0, 0, 0]"
   ]
  },
  {
   "cell_type": "code",
   "execution_count": null,
   "metadata": {},
   "outputs": [],
   "source": [
    "def set_zero(matrix):\n",
    "    # most optimal solution: O(RxC) time and O(1) space\n",
    "    R, C = matrix.shape\n",
    "    # determine if first row and column contain zeros\n",
    "    first_zero_row = False\n",
    "    first_zero_col = False\n",
    "    for c in range(C):\n",
    "        if matrix[0, c] == 0:\n",
    "            first_zero_row = True\n",
    "            break\n",
    "    for r in range(R):\n",
    "        if matrix[r, 0] == 0:\n",
    "            first_zero_col = True\n",
    "            break\n",
    "    # check the rest of the matrix for zeros and use first row and col to\n",
    "    # store this information\n",
    "    for r in range(1, R):\n",
    "        for c in range(1, C):\n",
    "            if matrix[r, c] == 0:\n",
    "                matrix[0, c] = 0\n",
    "                matrix[r, 0] = 0\n",
    "    # look at storage and apply zeros to appropriate rows and columns\n",
    "    for r in range(1, R):\n",
    "        if matrix[r, 0] == 0:\n",
    "            matrix[r, :] = 0\n",
    "    for c in range(1, C):\n",
    "        if matrix[0, c] == 0:\n",
    "            matrix[:, c] = 0\n",
    "    # look at first row and first col booleans to zero out first row and col\n",
    "    if first_zero_row:\n",
    "        matrix[0, :] = 0\n",
    "    if first_zero_col:\n",
    "        matrix[:, 0] = 0\n",
    "    return matrix"
   ]
  }
 ],
 "metadata": {
  "kernelspec": {
   "display_name": "Python 3",
   "language": "python",
   "name": "python3"
  },
  "language_info": {
   "codemirror_mode": {
    "name": "ipython",
    "version": 3
   },
   "file_extension": ".py",
   "mimetype": "text/x-python",
   "name": "python",
   "nbconvert_exporter": "python",
   "pygments_lexer": "ipython3",
   "version": "3.7.1"
  }
 },
 "nbformat": 4,
 "nbformat_minor": 2
}
