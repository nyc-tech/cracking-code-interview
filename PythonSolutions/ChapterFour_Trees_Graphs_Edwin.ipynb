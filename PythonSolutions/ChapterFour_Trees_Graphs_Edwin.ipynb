{
 "cells": [
  {
   "cell_type": "code",
   "execution_count": 4,
   "metadata": {},
   "outputs": [
    {
     "data": {
      "text/plain": [
       "True"
      ]
     },
     "execution_count": 4,
     "metadata": {},
     "output_type": "execute_result"
    }
   ],
   "source": [
    "# https://leetcode.com/problems/all-paths-from-source-to-target/\n",
    "    \n",
    "# Example:\n",
    "# Input: [[1,2], [3], [3], []] \n",
    "# Output: [[0,1,3],[0,2,3]] \n",
    "# Explanation: The graph looks like this:\n",
    "# 0--->1\n",
    "# |    |\n",
    "# v    v\n",
    "# 2--->3\n",
    "# There are two paths: 0 -> 1 -> 3 and 0 -> 2 -> 3.\n",
    "\n",
    "from typing import *\n",
    "class Solution:\n",
    "    @classmethod\n",
    "    def allPathsSourceTarget(cls, graph: List[List[int]]) -> List[List[int]]:\n",
    "        pathList = []\n",
    "        \n",
    "        def dfs(node, pathCache):\n",
    "            # Compare the current node to the last node in the graph input list\n",
    "            if node == len(graph) - 1:\n",
    "                pathList.append(pathCache + [node])\n",
    "            else:\n",
    "                for indexNode in graph[node]: \n",
    "                    dfs(indexNode, pathCache + [node])     \n",
    "                \n",
    "        # start at index 0\n",
    "        dfs(0, [])\n",
    "        return pathList\n",
    "\n",
    "Solution.allPathsSourceTarget([[1,2],[3],[3],[]]) == [[0,1,3],[0,2,3]]"
   ]
  },
  {
   "cell_type": "code",
   "execution_count": null,
   "metadata": {},
   "outputs": [],
   "source": []
  }
 ],
 "metadata": {
  "kernelspec": {
   "display_name": "Python 3",
   "language": "python",
   "name": "python3"
  },
  "language_info": {
   "codemirror_mode": {
    "name": "ipython",
    "version": 3
   },
   "file_extension": ".py",
   "mimetype": "text/x-python",
   "name": "python",
   "nbconvert_exporter": "python",
   "pygments_lexer": "ipython3",
   "version": "3.7.4"
  }
 },
 "nbformat": 4,
 "nbformat_minor": 4
}
