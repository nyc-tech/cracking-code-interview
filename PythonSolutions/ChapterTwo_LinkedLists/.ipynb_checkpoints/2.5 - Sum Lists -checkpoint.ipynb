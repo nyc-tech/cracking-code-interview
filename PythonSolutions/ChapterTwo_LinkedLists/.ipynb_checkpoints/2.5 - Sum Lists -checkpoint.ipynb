{
 "cells": [
  {
   "cell_type": "markdown",
   "metadata": {},
   "source": [
    "#### Chapter 02 - Problem 05 - Sum Lists - CTCI 6th Edition page 95\n",
    "\n",
    "Problem Statement:\n",
    "\n",
    "You have two numbers represented by a linked list, where each node contains a single digit.\n",
    "The digits are stored in reverse order, such that the 1's digit is at the head of the list. Write a function\n",
    "that adds the two numbers and returns the sum as a linked list.\n",
    "\n",
    "Example:\n",
    "\n",
    "Input: (7 -> 1 -> 6) + (5 -> 9 -> 2). That is, 617 + 295.\n",
    "\n",
    "Output: (2 -> 1 -> 9). That is, 912.\n",
    "\n",
    "Solution:\n",
    "\n",
    "Create a node representing the head of a new linked list. Traverse the input linked lists one node at a time until\n",
    "both pointers are None. Append a new node to the output linked list for every sum computed between pairs of nodes.\n",
    "Add two input nodes and store the sum in the output node. If the sum is > 9, store the carry value in a variable.\n",
    "If one pointer is nullptr but the other isn't, copy the value of the non-null pointer into the new list.\n",
    "Add the sum to a node in the new linked list. If a sum is >= 10, carry remainder over to next node. Return\n",
    "head of new linked list.\n",
    "\n",
    "Time complexity: O(N)\n",
    "Space complexity: O(N)"
   ]
  },
  {
   "cell_type": "code",
   "execution_count": null,
   "metadata": {},
   "outputs": [],
   "source": [
    "from . import SinglyLinkedNode as sln\n",
    "\n",
    "def sum_lists(node1, node2):\n",
    "    carry = 0\n",
    "    head = None\n",
    "    runner = None\n",
    "    while node1 is not None or node2 is not None:  # continue traversing so long as one pointer is not null\n",
    "        if head is None:  # create head of output linked list\n",
    "            head = sln.SinglyLinkedNode(0, None)\n",
    "            runner = head\n",
    "        else:  # add new node to existing list\n",
    "            temp = sln.SinglyLinkedNode(0, None)\n",
    "            runner.next_node = temp\n",
    "            runner = runner.next_node\n",
    "        sum = 0\n",
    "        if node1 is None:  # if head1 is null, use only head2 to compute sum\n",
    "            assert(node2.value < 10)\n",
    "            sum = node2.value + carry\n",
    "            node2 = node2.next_node\n",
    "        elif node2 is None:  # if head2 is null use only head1 to compute sum\n",
    "            assert(node1.value < 10)\n",
    "            sum = node1.value + carry\n",
    "            node1 = node1.next_node\n",
    "        else:\n",
    "            assert(node1.value < 10 and node2.value < 10)\n",
    "            sum = node1.value + node2.value + carry\n",
    "            node1 = node1.next_node\n",
    "            node2 = node2.next_node\n",
    "        carry = 0\n",
    "        if sum > 9:  # if sum is too large for 1 digit, carry over to next digit\n",
    "            carry = sum // 10\n",
    "            sum = sum - 10\n",
    "        runner.value = sum\n",
    "    if carry > 0:\n",
    "        runner.next_node = sln.SinglyLinkedNode(carry, None)\n",
    "    return head"
   ]
  }
 ],
 "metadata": {
  "kernelspec": {
   "display_name": "Python 3",
   "language": "python",
   "name": "python3"
  },
  "language_info": {
   "codemirror_mode": {
    "name": "ipython",
    "version": 3
   },
   "file_extension": ".py",
   "mimetype": "text/x-python",
   "name": "python",
   "nbconvert_exporter": "python",
   "pygments_lexer": "ipython3",
   "version": "3.7.1"
  }
 },
 "nbformat": 4,
 "nbformat_minor": 2
}
