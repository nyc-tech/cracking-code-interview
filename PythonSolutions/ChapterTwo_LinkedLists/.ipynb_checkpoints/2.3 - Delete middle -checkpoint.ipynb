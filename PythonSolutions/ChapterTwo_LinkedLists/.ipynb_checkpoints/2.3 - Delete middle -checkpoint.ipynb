{
 "cells": [
  {
   "cell_type": "markdown",
   "metadata": {},
   "source": [
    "#### Chapter 02 - Problem 03 - Delete Middle Node - CTCI 6th Edition page 94"
   ]
  },
  {
   "cell_type": "markdown",
   "metadata": {},
   "source": [
    "Problem Statement:\n",
    "Implement an algorithm to delete a node in the middle (i.e., any node but the first and last\n",
    "node, not necessarily the exact middle) of a singly linked list, given only access to that node.\n",
    "\n",
    "Example:\n",
    "\n",
    "Input: the node c from the linked list a -> b -> c -> d -> e -> f\n",
    "\n",
    "Result: nothing is returned, but the new linked list looks like a -> b -> d -> e -> f\n"
   ]
  },
  {
   "cell_type": "markdown",
   "metadata": {},
   "source": [
    "Solution:\n",
    "\n",
    "The solution is best illustrated by example: given node \"c\", copy the contents of node \"d\" into node\n",
    "\"c\". Link node \"c\" to node \"e\". Delete node \"d\".\n",
    "\n",
    "Time complexity: O(1)\n",
    "Space complexity: O(1)"
   ]
  },
  {
   "cell_type": "code",
   "execution_count": 1,
   "metadata": {},
   "outputs": [],
   "source": [
    "def delete_middle(node):\n",
    "    node.value = node.next_node.value\n",
    "    node.next_node = node.next_node.next_node"
   ]
  },
  {
   "cell_type": "code",
   "execution_count": null,
   "metadata": {},
   "outputs": [],
   "source": []
  }
 ],
 "metadata": {
  "kernelspec": {
   "display_name": "Python 3",
   "language": "python",
   "name": "python3"
  },
  "language_info": {
   "codemirror_mode": {
    "name": "ipython",
    "version": 3
   },
   "file_extension": ".py",
   "mimetype": "text/x-python",
   "name": "python",
   "nbconvert_exporter": "python",
   "pygments_lexer": "ipython3",
   "version": "3.7.1"
  }
 },
 "nbformat": 4,
 "nbformat_minor": 2
}
