{
 "cells": [
  {
   "cell_type": "markdown",
   "metadata": {},
   "source": [
    "#### Chapter 02 - Problem 07 - Intersection - CTCI 6th Edition page 95\n",
    "\n",
    "Problem Statement:\n",
    "\n",
    "Given two singly linked lists, determine if the two lists intersect. Return the intersecting node. \n",
    "Note that the intersection is defined based on reference, not value. That is, if the kth node of the \n",
    "first linked list is the exact same node (by reference) as the jth node of the second linked list, \n",
    "then they are intersecting.\n",
    "\n",
    "Example:\n",
    "\n",
    "3 -> 1 -> 5 -> 9 -> 7 -> 2 -> 1 \n",
    "   \n",
    "               ^\n",
    "               |      \n",
    "                \n",
    "         4 - > 6          \n",
    "               \n",
    "                \n",
    "                   \n",
    "\n",
    "\n",
    "Solution:\n",
    "\n",
    "Given pointers to the heads of both lists, determine the difference in list length first by advancing\n",
    "each head pointer to the end of each list and updating the length count of each list at the end of each\n",
    "pointer advancement operation. Once pointers of both lists have reached the end of each list,\n",
    "check if the pointers point to the same node in memory: if they do not, this means the lists do not\n",
    "intersect at all and we return nullptr in C++ or None in Python. Assuming the tails of the lists are the same,\n",
    "move pointers back to the heads of both lists and advance the pointer of the longer list by the number of\n",
    "nodes equal to the length difference between the lists. This will make both pointers point to the kth node \n",
    "from the end of each list. Now advance both pointers one node at a time until they intersect and return the\n",
    "node at which the intersection occurs.\n",
    "\n",
    "Time complexity: O(N)\n",
    "Space complexity: O(1)"
   ]
  },
  {
   "cell_type": "code",
   "execution_count": 1,
   "metadata": {},
   "outputs": [],
   "source": [
    "def intersection(head1, head2):\n",
    "    runner1 = head1\n",
    "    runner2 = head2\n",
    "    length1 = length2 = 0 # Note sure>?\n",
    "    \n",
    "    while runner1 is not None:  # advance pointer 1 to end and compute list size\n",
    "        runner1 = runner1.next_node\n",
    "        length1 += 1\n",
    "    \n",
    "    while runner2 is not None:  # advance pointer 2 to end and compute list size\n",
    "        runner2 = runner2.next_node\n",
    "        length2 += 1\n",
    "    \n",
    "    if runner2 is not runner1:  # if the lists don't intersect at all\n",
    "        return None\n",
    "    diff = length1 - length2  # determine difference between list lengths\n",
    "    \n",
    "    if diff > 0:  # make new pointers for larger and smaller lists\n",
    "        larger = head1\n",
    "        smaller = head2\n",
    "    \n",
    "    else:\n",
    "        larger = head2\n",
    "        smaller = head1\n",
    "        diff = diff * -1  # compute absolute value of sizeDiff\n",
    "    \n",
    "    for i in range(diff):  # advance pointer for larger list to be \"equal\" to smaller list\n",
    "        larger = larger.next_node\n",
    "    \n",
    "    while larger is not smaller:  # advance pointers simultaneously until they are equal\n",
    "        larger = larger.next_node\n",
    "        smaller = smaller.next_node\n",
    "    \n",
    "    return smaller"
   ]
  }
 ],
 "metadata": {
  "kernelspec": {
   "display_name": "Python 3",
   "language": "python",
   "name": "python3"
  },
  "language_info": {
   "codemirror_mode": {
    "name": "ipython",
    "version": 3
   },
   "file_extension": ".py",
   "mimetype": "text/x-python",
   "name": "python",
   "nbconvert_exporter": "python",
   "pygments_lexer": "ipython3",
   "version": "3.7.1"
  }
 },
 "nbformat": 4,
 "nbformat_minor": 2
}
