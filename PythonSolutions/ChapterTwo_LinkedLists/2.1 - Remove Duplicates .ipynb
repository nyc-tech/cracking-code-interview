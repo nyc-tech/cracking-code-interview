{
 "cells": [
  {
   "cell_type": "code",
   "execution_count": 1,
   "metadata": {},
   "outputs": [],
   "source": [
    "def remove_dups(head):  # O(n) speed with O(n) space for hash table\n",
    "    hash_table = {head.value: True}\n",
    "    while head is not None:\n",
    "        if head.next_node is not None:\n",
    "            if hash_table.get(head.next_node.value, None) is not None:\n",
    "                head.next_node = head.next_node.next_node\n",
    "            else:\n",
    "                hash_table[head.next_node.value] = True\n",
    "        head = head.next_node"
   ]
  },
  {
   "cell_type": "code",
   "execution_count": 2,
   "metadata": {},
   "outputs": [],
   "source": [
    "def remove_dups_alternative(head):  # O(n^2) speed with O(1) space due to no hash table\n",
    "    while head is not None:\n",
    "        runner = head\n",
    "        while runner is not None:\n",
    "            if runner.next_node is not None and runner.next_node.value == head.value:\n",
    "                if runner.next_node is None:\n",
    "                    break\n",
    "                else:\n",
    "                    runner.next_node = runner.next_node.next_node\n",
    "            runner = runner.next_node\n",
    "        head = head.next_node"
   ]
  },
  {
   "cell_type": "code",
   "execution_count": null,
   "metadata": {},
   "outputs": [],
   "source": []
  }
 ],
 "metadata": {
  "kernelspec": {
   "display_name": "Python 3",
   "language": "python",
   "name": "python3"
  },
  "language_info": {
   "codemirror_mode": {
    "name": "ipython",
    "version": 3
   },
   "file_extension": ".py",
   "mimetype": "text/x-python",
   "name": "python",
   "nbconvert_exporter": "python",
   "pygments_lexer": "ipython3",
   "version": "3.7.1"
  }
 },
 "nbformat": 4,
 "nbformat_minor": 2
}
