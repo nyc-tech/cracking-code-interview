{
 "cells": [
  {
   "cell_type": "markdown",
   "metadata": {},
   "source": [
    "#### Chapter 02 - Problem 08 - Find Loop - CTCI 6th Edition page 95\n",
    "Problem Stetement:\n",
    "Given a circular linked list, implement an algorithm that returns the node at the beginning of the loop. \n",
    "\n",
    "Example: \n",
    "\n",
    "A -> B -> C -> D -> E -> C [the same C as earlier] \n",
    "\n",
    "Return C\n",
    "\n",
    "Solution:\n",
    "\n",
    "1. Create two runner pointers, a fast one and a slow one.\n",
    "2. Advance the pointers simultaneously in a loop, but advance the fast pointer 2 nodes per iterations while\n",
    "advancing the slow pointer 1 node per iteration.\n",
    "3. When the pointers meet, stop the loop.\n",
    "4. Leave the fast pointer at the meeting point, but move the slow pointer to the head of the list.\n",
    "5. Advance the two pointers simultaneously at the same rate. The node where they meet will be the node at \n",
    "the start of the loop.\n",
    "\n",
    "Time complexity: O(N)\n",
    "Space complexity: O(1)"
   ]
  },
  {
   "cell_type": "code",
   "execution_count": null,
   "metadata": {},
   "outputs": [],
   "source": [
    "def find_loop(head):\n",
    "    S = head  # fast\n",
    "    F = head  # slow\n",
    "    # set up first meeting\n",
    "    while True:\n",
    "        # if there is no loop, we will detect it\n",
    "        if S is None or F is None:\n",
    "            return None\n",
    "        # advance slow and fast pointers\n",
    "        S = S.next_node\n",
    "        F = F.next_node.next_node\n",
    "        if S is F:\n",
    "            break\n",
    "    # reset S to beginning\n",
    "    S = head\n",
    "    # set up second meeting\n",
    "    while True:\n",
    "        # advance pointers at same speed\n",
    "        S = S.next_node\n",
    "        F = F.next_node\n",
    "        if S is F:\n",
    "            break\n",
    "    return S"
   ]
  }
 ],
 "metadata": {
  "kernelspec": {
   "display_name": "Python 3",
   "language": "python",
   "name": "python3"
  },
  "language_info": {
   "codemirror_mode": {
    "name": "ipython",
    "version": 3
   },
   "file_extension": ".py",
   "mimetype": "text/x-python",
   "name": "python",
   "nbconvert_exporter": "python",
   "pygments_lexer": "ipython3",
   "version": "3.7.1"
  }
 },
 "nbformat": 4,
 "nbformat_minor": 2
}
