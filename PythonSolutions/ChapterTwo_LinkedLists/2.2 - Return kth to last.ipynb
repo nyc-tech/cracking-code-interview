{
 "cells": [
  {
   "cell_type": "code",
   "execution_count": null,
   "metadata": {},
   "outputs": [],
   "source": [
    "def return_kth_to_last(head, k):\n",
    "    if k <= 0:\n",
    "        return None\n",
    "    slow = head\n",
    "    fast = head\n",
    "    for i in range(k):\n",
    "        if fast is None and i < k - 1:\n",
    "            return None\n",
    "        fast = fast.next_node\n",
    "    while fast is not None:\n",
    "        slow = slow.next_node\n",
    "        fast = fast.next_node\n",
    "    return slow"
   ]
  }
 ],
 "metadata": {
  "kernelspec": {
   "display_name": "Python 3",
   "language": "python",
   "name": "python3"
  },
  "language_info": {
   "codemirror_mode": {
    "name": "ipython",
    "version": 3
   },
   "file_extension": ".py",
   "mimetype": "text/x-python",
   "name": "python",
   "nbconvert_exporter": "python",
   "pygments_lexer": "ipython3",
   "version": "3.7.1"
  }
 },
 "nbformat": 4,
 "nbformat_minor": 2
}
