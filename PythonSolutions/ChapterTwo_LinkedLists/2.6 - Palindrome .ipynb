{
 "cells": [
  {
   "cell_type": "markdown",
   "metadata": {},
   "source": [
    "#### Chapter 02 - Problem 06 - Palindrome - CTCI 6th Edition page 95\n",
    "\n",
    "Problem Statement:\n",
    "\n",
    "Implement a function to check if a linked list is a palindrome.\n",
    "\n",
    "Example:\n",
    "\n",
    "Input: (7 -> 1 -> 6) + (5 -> 9 -> 2). That is, 617 + 295.\n",
    "\n",
    "Output: (2 -> 1 -> 9). That is, 912.\n",
    "\n",
    "Solution:\n",
    "\n",
    "A palindrome is a list that is the same forwards as it is backwards. We traverse the input list\n",
    "once and count its length. We then use this count to create a new list that is the reverse of the first\n",
    "half of the input list. This is done by traversing the first half of the input list a second time.\n",
    "We then compare the reversed list with the second half of the input list.\n",
    "\n",
    "Time complexity: O(N)\n",
    "Space complexity: O(N)"
   ]
  },
  {
   "cell_type": "code",
   "execution_count": 2,
   "metadata": {},
   "outputs": [],
   "source": [
    "from . import SinglyLinkedNode as sln\n",
    "\n",
    "\n",
    "def palindrome(head):\n",
    "    if head is None:\n",
    "        return None\n",
    "    count = 0\n",
    "    runner = head\n",
    "    while runner is not None:  # loop to count # of nodes in list\n",
    "        count += 1\n",
    "        runner = runner.next_node\n",
    "    half_count = count // 2  # compute halfway point\n",
    "    rev_first = sln.SinglyLinkedNode(head.value, None)  # start of list that is the reverse of first half of input list\n",
    "    runner = head\n",
    "    for i in range(1, half_count):  # create a list that is reverse of first half of input list\n",
    "        runner = runner.next_node\n",
    "        node = sln.SinglyLinkedNode(runner.value, rev_first)\n",
    "        rev_first = node\n",
    "    runner = runner.next_node  # advance runner from first half to second half\n",
    "    if count % 2 != 0:  # odd numbered lists require an extra pointer advancement\n",
    "        runner = runner.next_node\n",
    "    runner2 = rev_first\n",
    "    while runner2 is not None:  # traverse second half of input list simultaneously with reversed list\n",
    "        if runner2.value != runner.value:  # equality check\n",
    "            return False\n",
    "        runner2 = runner2.next_node\n",
    "        runner = runner.next_node\n",
    "    return True"
   ]
  },
  {
   "cell_type": "code",
   "execution_count": null,
   "metadata": {},
   "outputs": [],
   "source": []
  }
 ],
 "metadata": {
  "kernelspec": {
   "display_name": "Python 3",
   "language": "python",
   "name": "python3"
  },
  "language_info": {
   "codemirror_mode": {
    "name": "ipython",
    "version": 3
   },
   "file_extension": ".py",
   "mimetype": "text/x-python",
   "name": "python",
   "nbconvert_exporter": "python",
   "pygments_lexer": "ipython3",
   "version": "3.7.1"
  }
 },
 "nbformat": 4,
 "nbformat_minor": 2
}
