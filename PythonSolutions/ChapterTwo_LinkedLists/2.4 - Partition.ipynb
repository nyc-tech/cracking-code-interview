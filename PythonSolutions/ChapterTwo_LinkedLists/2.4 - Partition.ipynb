{
 "cells": [
  {
   "cell_type": "markdown",
   "metadata": {},
   "source": [
    "#### Chapter 02 - Problem 04 - Partition - CTCI 6th Edition page 94\n",
    "\n",
    "Problem Statement:\n",
    "\n",
    "Write code to partition a linked list around a value x, such that all nodes less than x come before all nodes greater\n",
    "than or equal to x. lf x is contained within the list, the values of x only need to be after the elements less than x\n",
    "(see below).The partition element x can appear anywhere in the \"right partition\"; it does not need to appear between\n",
    "the left and right partitions.\n",
    "\n",
    "Example:\n",
    "\n",
    "Input: 3 -> 5 -> 8 -> 5 ->10 -> 2 -> 1 [partition=5]\n",
    "\n",
    "Output: 3 -> 1 -> 2 -> 10 -> 5 -> 5 -> 8\n",
    "\n",
    "Solution:\n",
    "\n",
    "Start a new list with a head and tail pointing to null. Traverse the nodes of the input linked list one at a time.\n",
    "If the current node has value greater than or equal to the partition value, move it to the tail of the new list. Else,\n",
    "move it to the the head of the new list.\n",
    "\n",
    "Time complexity: O(N).\n",
    "\n",
    "Space complexity: O(1) (we need no additional space in addition to the O(N) space required to store the list itself)."
   ]
  },
  {
   "cell_type": "code",
   "execution_count": 1,
   "metadata": {},
   "outputs": [],
   "source": [
    "def partition(node, k):\n",
    "    tail = node\n",
    "    head = node\n",
    "    while node is not None:\n",
    "        nextNode = node.next_node\n",
    "        node.next_node = None\n",
    "        if node.value >= k:\n",
    "            tail.next_node = node\n",
    "            tail = node\n",
    "        else:\n",
    "            node.next_node = head\n",
    "            head = node\n",
    "        node = nextNode\n",
    "    return head"
   ]
  },
  {
   "cell_type": "code",
   "execution_count": null,
   "metadata": {},
   "outputs": [],
   "source": []
  }
 ],
 "metadata": {
  "kernelspec": {
   "display_name": "Python 3",
   "language": "python",
   "name": "python3"
  },
  "language_info": {
   "codemirror_mode": {
    "name": "ipython",
    "version": 3
   },
   "file_extension": ".py",
   "mimetype": "text/x-python",
   "name": "python",
   "nbconvert_exporter": "python",
   "pygments_lexer": "ipython3",
   "version": "3.7.1"
  }
 },
 "nbformat": 4,
 "nbformat_minor": 2
}
