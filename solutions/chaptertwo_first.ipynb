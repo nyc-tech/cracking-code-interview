{
 "cells": [
  {
   "cell_type": "code",
   "execution_count": 1,
   "metadata": {},
   "outputs": [],
   "source": [
    "class node:\n",
    "    def __init__(self, data):\n",
    "        self.data = data\n",
    "        self.next = None "
   ]
  },
  {
   "cell_type": "code",
   "execution_count": 2,
   "metadata": {},
   "outputs": [],
   "source": [
    "class linkedlist:\n",
    "    def __init__(self, head):\n",
    "        self.head = head\n",
    "        self.size = 1\n",
    "    \n",
    "    def insert(self, data):            \n",
    "        self.size += 1\n",
    "        newnode = node(data)\n",
    "        current = self.head\n",
    "        while(current.next):\n",
    "            current = current.next\n",
    "        current.next = newnode\n",
    "        \n",
    "    def delete(self, value):\n",
    "        self.size -= 1\n",
    "        current = self.head\n",
    "        if current.data == value:\n",
    "            self.head = current.next\n",
    "            return\n",
    "        else:\n",
    "            previous = current\n",
    "            current = current.next\n",
    "        for i in range(self.size):\n",
    "            if current.data == value:\n",
    "                previous.next = current.next\n",
    "            else:\n",
    "                previous = current\n",
    "                current = current.next"
   ]
  },
  {
   "cell_type": "code",
   "execution_count": 3,
   "metadata": {},
   "outputs": [],
   "source": [
    "def returnlist(linkedlist):\n",
    "    current = linkedlist.head\n",
    "    while current is not None:\n",
    "        print(current.data)\n",
    "        current = current.next"
   ]
  },
  {
   "cell_type": "code",
   "execution_count": 4,
   "metadata": {},
   "outputs": [
    {
     "name": "stdout",
     "output_type": "stream",
     "text": [
      "5\n",
      "3\n"
     ]
    }
   ],
   "source": [
    "nodeone = node(5)\n",
    "linkedlistone = linkedlist(nodeone)\n",
    "linkedlistone.insert(4)\n",
    "linkedlistone.insert(3)\n",
    "linkedlistone.delete(4)\n",
    "returnlist(linkedlistone)"
   ]
  },
  {
   "cell_type": "markdown",
   "metadata": {},
   "source": [
    "Problem 2.1"
   ]
  },
  {
   "cell_type": "code",
   "execution_count": 5,
   "metadata": {},
   "outputs": [],
   "source": [
    "def removeDups(linkedlist):\n",
    "    values = []\n",
    "    previous = None\n",
    "    current = linkedlist.head\n",
    "    \n",
    "    while current is not None:\n",
    "        if current.data not in values:\n",
    "            values.append(current.data)\n",
    "            previous = current\n",
    "            current = current.next\n",
    "        else:\n",
    "            linkedlist.size -= 1\n",
    "            previous.next = current.next\n",
    "            current = current.next"
   ]
  },
  {
   "cell_type": "code",
   "execution_count": 6,
   "metadata": {},
   "outputs": [
    {
     "name": "stdout",
     "output_type": "stream",
     "text": [
      "5\n",
      "4\n",
      "3\n",
      "2\n",
      "1\n"
     ]
    }
   ],
   "source": [
    "nodetwo = node(5)\n",
    "\n",
    "linkedtwo = linkedlist(nodetwo)\n",
    "\n",
    "linkedtwo.insert(4)\n",
    "linkedtwo.insert(4)\n",
    "linkedtwo.insert(3)\n",
    "linkedtwo.insert(2)\n",
    "linkedtwo.insert(4)\n",
    "linkedtwo.insert(2)\n",
    "linkedtwo.insert(1)\n",
    "\n",
    "removeDups(linkedtwo)\n",
    "returnlist(linkedtwo)"
   ]
  },
  {
   "cell_type": "markdown",
   "metadata": {},
   "source": [
    "Problem 2.2"
   ]
  },
  {
   "cell_type": "code",
   "execution_count": 7,
   "metadata": {},
   "outputs": [],
   "source": [
    "def findK(linkedlist, k):\n",
    "    num = linkedlist.size - k - 1\n",
    "    current = linkedlist.head\n",
    "    \n",
    "    for i in range(num):\n",
    "        current = current.next\n",
    "    \n",
    "    print(current.data)"
   ]
  },
  {
   "cell_type": "code",
   "execution_count": 8,
   "metadata": {},
   "outputs": [
    {
     "name": "stdout",
     "output_type": "stream",
     "text": [
      "3\n"
     ]
    }
   ],
   "source": [
    "nodethree = node(5)\n",
    "\n",
    "linkedthree = linkedlist(nodethree)\n",
    "\n",
    "linkedthree.insert(4)\n",
    "linkedthree.insert(3)\n",
    "linkedthree.insert(2)\n",
    "linkedthree.insert(1)\n",
    "\n",
    "findK(linkedthree, 2)"
   ]
  },
  {
   "cell_type": "markdown",
   "metadata": {},
   "source": [
    "Problem 2.3"
   ]
  },
  {
   "cell_type": "code",
   "execution_count": 9,
   "metadata": {},
   "outputs": [],
   "source": [
    "def deleteMiddle(linkedlist, node):\n",
    "    linkedlist.size -= 1\n",
    "    nextone = node.next\n",
    "    \n",
    "    if node.next == None:\n",
    "        return \n",
    "    \n",
    "    node.data = nextone.data\n",
    "    node.next = nextone.next"
   ]
  },
  {
   "cell_type": "code",
   "execution_count": 10,
   "metadata": {},
   "outputs": [
    {
     "name": "stdout",
     "output_type": "stream",
     "text": [
      "5\n",
      "3\n",
      "2\n",
      "1\n"
     ]
    }
   ],
   "source": [
    "nodefour = node(5)\n",
    "\n",
    "linkedfour = linkedlist(nodefour)\n",
    "\n",
    "linkedfour.insert(4)\n",
    "linkedfour.insert(3)\n",
    "linkedfour.insert(2)\n",
    "linkedfour.insert(1)\n",
    "\n",
    "nodefive = linkedfour.head.next\n",
    "\n",
    "deleteMiddle(linkedfour, nodefive)\n",
    "returnlist(linkedfour)"
   ]
  },
  {
   "cell_type": "markdown",
   "metadata": {},
   "source": [
    "Problem 2.4"
   ]
  },
  {
   "cell_type": "code",
   "execution_count": 11,
   "metadata": {},
   "outputs": [],
   "source": [
    "def Partition(linkedlist, partnum):\n",
    "    values = []\n",
    "    end = []\n",
    "    current = linkedlist.head\n",
    "    \n",
    "    for i in range(linkedlist.size):\n",
    "        values.append(current.data)\n",
    "        current = current.next\n",
    "    \n",
    "    for value in values:\n",
    "        if value < partnum:\n",
    "            linkedlist.delete(value)\n",
    "            linkedlist.insert(value)\n",
    "        elif value == partnum:\n",
    "            end.append(value)\n",
    "    \n",
    "    for i in end:\n",
    "        linkedlist.delete(i)\n",
    "        linkedlist.insert(i)"
   ]
  },
  {
   "cell_type": "code",
   "execution_count": 12,
   "metadata": {},
   "outputs": [
    {
     "name": "stdout",
     "output_type": "stream",
     "text": [
      "5\n",
      "4\n",
      "1\n",
      "2\n",
      "1\n",
      "1\n",
      "3\n",
      "3\n"
     ]
    }
   ],
   "source": [
    "nodesix = node(5)\n",
    "\n",
    "linkedfive = linkedlist(nodesix)\n",
    "\n",
    "linkedfive.insert(4)\n",
    "linkedfive.insert(1)\n",
    "linkedfive.insert(3)\n",
    "linkedfive.insert(2)\n",
    "linkedfive.insert(1)\n",
    "linkedfive.insert(3)\n",
    "linkedfive.insert(1)\n",
    "\n",
    "Partition(linkedfive, 3)\n",
    "returnlist(linkedfive)"
   ]
  },
  {
   "cell_type": "code",
   "execution_count": 13,
   "metadata": {},
   "outputs": [],
   "source": [
    "def Partition2(lst, part):\n",
    "    beforelist = linkedlist(node(0))\n",
    "    afterlist = linkedlist(node(0))\n",
    "    \n",
    "    current = lst.head\n",
    "    \n",
    "    while current is not None:\n",
    "        if current.data < part:\n",
    "            beforelist.insert(current.data)\n",
    "            current = current.next\n",
    "        else:\n",
    "            afterlist.insert(current.data)\n",
    "            current = current.next\n",
    "    \n",
    "    afterlist.delete(0)\n",
    "    beforelist.delete(0)\n",
    "    \n",
    "    end = beforelist.head\n",
    "    \n",
    "    while end.next:\n",
    "        end = end.next\n",
    "    \n",
    "    end.next = afterlist.head\n",
    "    \n",
    "    return beforelist"
   ]
  },
  {
   "cell_type": "code",
   "execution_count": 14,
   "metadata": {
    "scrolled": true
   },
   "outputs": [
    {
     "name": "stdout",
     "output_type": "stream",
     "text": [
      "1\n",
      "2\n",
      "1\n",
      "1\n",
      "5\n",
      "4\n",
      "3\n",
      "3\n"
     ]
    }
   ],
   "source": [
    "nodeseven = node(5)\n",
    "\n",
    "linkedsix = linkedlist(nodeseven)\n",
    "\n",
    "linkedsix.insert(4)\n",
    "linkedsix.insert(1)\n",
    "linkedsix.insert(3)\n",
    "linkedsix.insert(2)\n",
    "linkedsix.insert(1)\n",
    "linkedsix.insert(3)\n",
    "linkedsix.insert(1)\n",
    "\n",
    "newlist = Partition2(linkedsix, 3)\n",
    "returnlist(newlist)"
   ]
  },
  {
   "cell_type": "markdown",
   "metadata": {},
   "source": [
    "Problem 2.5"
   ]
  },
  {
   "cell_type": "code",
   "execution_count": 15,
   "metadata": {},
   "outputs": [],
   "source": [
    "def sumListsOne(lst1, lst2):\n",
    "    stringone = ''\n",
    "    stringtwo = ''\n",
    "    \n",
    "    currentone = lst1.head\n",
    "    currenttwo = lst2.head\n",
    "    \n",
    "    while currentone is not None:\n",
    "        stringone += str(currentone.data)\n",
    "        currentone = currentone.next\n",
    "    \n",
    "    while currenttwo is not None:\n",
    "        stringtwo += str(currenttwo.data)\n",
    "        currenttwo = currenttwo.next\n",
    "    \n",
    "    stringone = stringone[::-1]\n",
    "    stringtwo = stringtwo[::-1]\n",
    "    \n",
    "    return int(stringone) + int(stringtwo)"
   ]
  },
  {
   "cell_type": "code",
   "execution_count": 16,
   "metadata": {},
   "outputs": [
    {
     "data": {
      "text/plain": [
       "912"
      ]
     },
     "execution_count": 16,
     "metadata": {},
     "output_type": "execute_result"
    }
   ],
   "source": [
    "node_one = node(7)\n",
    "\n",
    "list_one = linkedlist(node_one)\n",
    "list_one.insert(1)\n",
    "list_one.insert(6)\n",
    "\n",
    "\n",
    "node_two = node(5)\n",
    "\n",
    "list_two = linkedlist(node_two)\n",
    "list_two.insert(9)\n",
    "list_two.insert(2)\n",
    "\n",
    "sumListsOne(list_one, list_two)"
   ]
  },
  {
   "cell_type": "code",
   "execution_count": 17,
   "metadata": {},
   "outputs": [],
   "source": [
    "def sumListsTwo(lst1, lst2):\n",
    "    stringone = ''\n",
    "    stringtwo = ''\n",
    "    \n",
    "    currentone = lst1.head\n",
    "    currenttwo = lst2.head\n",
    "    \n",
    "    while currentone is not None:\n",
    "        stringone += str(currentone.data)\n",
    "        currentone = currentone.next\n",
    "    \n",
    "    while currenttwo is not None:\n",
    "        stringtwo += str(currenttwo.data)\n",
    "        currenttwo = currenttwo.next\n",
    "    \n",
    "    return int(stringone) + int(stringtwo)"
   ]
  },
  {
   "cell_type": "code",
   "execution_count": 18,
   "metadata": {},
   "outputs": [
    {
     "data": {
      "text/plain": [
       "912"
      ]
     },
     "execution_count": 18,
     "metadata": {},
     "output_type": "execute_result"
    }
   ],
   "source": [
    "node_three = node(6)\n",
    "\n",
    "list_three = linkedlist(node_three)\n",
    "list_three.insert(1)\n",
    "list_three.insert(7)\n",
    "\n",
    "node_four = node(2)\n",
    "\n",
    "list_four = linkedlist(node_four)\n",
    "list_four.insert(9)\n",
    "list_four.insert(5)\n",
    "\n",
    "sumListsTwo(list_three, list_four)"
   ]
  },
  {
   "cell_type": "markdown",
   "metadata": {},
   "source": [
    "Problem 2.6"
   ]
  },
  {
   "cell_type": "code",
   "execution_count": 19,
   "metadata": {},
   "outputs": [],
   "source": [
    "def isPalindrome(lst):\n",
    "    values = []\n",
    "    current = lst.head\n",
    "    \n",
    "    while current is not None:\n",
    "        values.append(current.data)\n",
    "        current = current.next\n",
    "    \n",
    "    if len(values) % 2 != 0:\n",
    "        values.pop(((len(values) // 2 )))\n",
    "    \n",
    "    for i in range(len(values)):\n",
    "        if values[i] != values[-(i+1)]:\n",
    "            return False\n",
    "    \n",
    "    return True"
   ]
  },
  {
   "cell_type": "code",
   "execution_count": 20,
   "metadata": {},
   "outputs": [
    {
     "data": {
      "text/plain": [
       "True"
      ]
     },
     "execution_count": 20,
     "metadata": {},
     "output_type": "execute_result"
    }
   ],
   "source": [
    "node_four = node('G')\n",
    "\n",
    "list_four = linkedlist(node_four)\n",
    "\n",
    "list_four.insert('O')\n",
    "list_four.insert('D')\n",
    "list_four.insert('B')\n",
    "list_four.insert('D')\n",
    "list_four.insert('O')\n",
    "list_four.insert('G')\n",
    "\n",
    "isPalindrome(list_four)"
   ]
  },
  {
   "cell_type": "code",
   "execution_count": 21,
   "metadata": {},
   "outputs": [
    {
     "data": {
      "text/plain": [
       "False"
      ]
     },
     "execution_count": 21,
     "metadata": {},
     "output_type": "execute_result"
    }
   ],
   "source": [
    "node_five = node('G')\n",
    "\n",
    "list_five = linkedlist(node_five)\n",
    "\n",
    "list_five.insert('B')\n",
    "list_five.insert('O')\n",
    "list_five.insert('D')\n",
    "\n",
    "isPalindrome(list_five)"
   ]
  }
 ],
 "metadata": {
  "kernelspec": {
   "display_name": "Python 3",
   "language": "python",
   "name": "python3"
  },
  "language_info": {
   "codemirror_mode": {
    "name": "ipython",
    "version": 3
   },
   "file_extension": ".py",
   "mimetype": "text/x-python",
   "name": "python",
   "nbconvert_exporter": "python",
   "pygments_lexer": "ipython3",
   "version": "3.6.4"
  }
 },
 "nbformat": 4,
 "nbformat_minor": 2
}
