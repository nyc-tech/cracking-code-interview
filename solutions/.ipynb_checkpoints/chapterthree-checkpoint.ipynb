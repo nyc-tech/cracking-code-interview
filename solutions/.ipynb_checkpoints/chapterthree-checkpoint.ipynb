{
 "cells": [
  {
   "cell_type": "code",
   "execution_count": 15,
   "metadata": {},
   "outputs": [],
   "source": [
    "class Stack:\n",
    "    def __init__(self):\n",
    "        self.items = []\n",
    "    \n",
    "    def push(self, item):\n",
    "         self.items.append(item)\n",
    "\n",
    "    def pop(self):\n",
    "         return self.items.pop()\n",
    "    \n",
    "    def isEmpty(self):\n",
    "         return self.items == []\n",
    "    \n",
    "    def peek(self):\n",
    "        return self.items[-1]\n",
    "    \n",
    "    def size(self):\n",
    "         return len(self.items)"
   ]
  },
  {
   "cell_type": "markdown",
   "metadata": {},
   "source": [
    "Problem 3.1"
   ]
  },
  {
   "cell_type": "code",
   "execution_count": 16,
   "metadata": {},
   "outputs": [],
   "source": [
    "def threeInOne(array):\n",
    "    div = int(len(array) / 3)\n",
    "    \n",
    "    one = Stack()\n",
    "    two = Stack()\n",
    "    three = Stack()\n",
    "    \n",
    "    one.push(array[:div])\n",
    "    two.push(array[div:(div * 2)])\n",
    "    three.push(array[(div * 2):])\n",
    "    \n",
    "    print(one.items) \n",
    "    print(two.items)\n",
    "    print(three.items)"
   ]
  },
  {
   "cell_type": "code",
   "execution_count": 17,
   "metadata": {},
   "outputs": [
    {
     "name": "stdout",
     "output_type": "stream",
     "text": [
      "[[1, 2, 3]]\n",
      "[[4, 5, 6]]\n",
      "[[7, 8, 9]]\n"
     ]
    }
   ],
   "source": [
    "threeInOne([1, 2, 3, 4, 5, 6, 7, 8, 9])"
   ]
  },
  {
   "cell_type": "markdown",
   "metadata": {},
   "source": [
    "Problem 3.2"
   ]
  },
  {
   "cell_type": "code",
   "execution_count": 18,
   "metadata": {},
   "outputs": [],
   "source": [
    "class Stack:\n",
    "    def __init__(self):\n",
    "        self.items = []\n",
    "        self.minimum = None\n",
    "    \n",
    "    def push(self, item):\n",
    "        if self.minimum == None:\n",
    "            self.minimum = item\n",
    "        elif self.minimum > item:\n",
    "            self.minimum = item\n",
    "        self.items.append(item)\n",
    "\n",
    "    def pop(self):\n",
    "        return self.items.pop()\n",
    "    \n",
    "    def isEmpty(self):\n",
    "        return self.items == []\n",
    "    \n",
    "    def size(self):\n",
    "        return len(self.items)    \n",
    "    \n",
    "    def peek(self):\n",
    "        return self.items[-1]\n",
    "    \n",
    "    def min(self):\n",
    "        return self.minimum"
   ]
  },
  {
   "cell_type": "code",
   "execution_count": 19,
   "metadata": {},
   "outputs": [
    {
     "data": {
      "text/plain": [
       "1"
      ]
     },
     "execution_count": 19,
     "metadata": {},
     "output_type": "execute_result"
    }
   ],
   "source": [
    "x = Stack()\n",
    "\n",
    "x.push(1)\n",
    "x.push(2)\n",
    "x.push(3)\n",
    "x.push(4)\n",
    "\n",
    "x.min()"
   ]
  },
  {
   "cell_type": "markdown",
   "metadata": {},
   "source": [
    "Problem 3.3"
   ]
  },
  {
   "cell_type": "code",
   "execution_count": 20,
   "metadata": {},
   "outputs": [],
   "source": [
    "class SetOfStacks:\n",
    "    def __init__(self, stack_max):\n",
    "        self.stacks = []\n",
    "        self.stack_max = stack_max\n",
    "        \n",
    "    def push(self, item):\n",
    "        if len(self.stacks) == 0:\n",
    "            new_stack = Stack()\n",
    "            new_stack.push(item)\n",
    "            self.stacks.append(new_stack)\n",
    "        \n",
    "        else:\n",
    "            if self.stacks[len(self.stacks) - 1].size() == self.stack_max:\n",
    "                new_stack = Stack()\n",
    "                new_stack.push(item)\n",
    "                self.stacks.append(new_stack)\n",
    "            \n",
    "            else:\n",
    "                self.stacks[len(self.stacks) - 1].push(item)\n",
    "                \n",
    "    def pop(self):\n",
    "        return self.stacks[len(self.stacks) - 1].pop()\n",
    "    \n",
    "    def popAt(self, index):\n",
    "        return self.stacks[index].pop()"
   ]
  },
  {
   "cell_type": "code",
   "execution_count": 21,
   "metadata": {},
   "outputs": [
    {
     "data": {
      "text/plain": [
       "3"
      ]
     },
     "execution_count": 21,
     "metadata": {},
     "output_type": "execute_result"
    }
   ],
   "source": [
    "new_stack = SetOfStacks(2)\n",
    "new_stack.push(2)\n",
    "new_stack.push(3)\n",
    "new_stack.push(4)\n",
    "new_stack.popAt(0)"
   ]
  },
  {
   "cell_type": "markdown",
   "metadata": {},
   "source": [
    "Problem 3.4"
   ]
  },
  {
   "cell_type": "code",
   "execution_count": 22,
   "metadata": {},
   "outputs": [],
   "source": [
    "class MyQueue:\n",
    "    def __init__(self, stack1, stack2):\n",
    "        self.s1 = stack1\n",
    "        self.s2 = stack2\n",
    "        \n",
    "        for i in range(self.s2.size()):\n",
    "            self.s1.push(self.s2.pop())\n",
    "        \n",
    "    def pop(self):\n",
    "        values = []\n",
    "        \n",
    "        for i in range(self.s1.size()):\n",
    "            values.append(self.s1.pop())\n",
    "        \n",
    "        return values[-1]"
   ]
  },
  {
   "cell_type": "code",
   "execution_count": 23,
   "metadata": {},
   "outputs": [
    {
     "data": {
      "text/plain": [
       "1"
      ]
     },
     "execution_count": 23,
     "metadata": {},
     "output_type": "execute_result"
    }
   ],
   "source": [
    "x = Stack()\n",
    "\n",
    "x.push(1)\n",
    "x.push(2)\n",
    "\n",
    "y = Stack()\n",
    "\n",
    "y.push(3)\n",
    "y.push(4)\n",
    "\n",
    "z = MyQueue(x, y)\n",
    "z.pop()"
   ]
  },
  {
   "cell_type": "markdown",
   "metadata": {},
   "source": [
    "Problem 3.5"
   ]
  },
  {
   "cell_type": "code",
   "execution_count": 71,
   "metadata": {},
   "outputs": [],
   "source": [
    "def sortStack(stck):\n",
    "    temp_stack = Stack()\n",
    "    \n",
    "    while not stck.isEmpty():\n",
    "        temp = stck.pop()\n",
    "        \n",
    "        while not temp_stack.isEmpty() and temp_stack.peek() < temp:\n",
    "            stck.push(temp_stack.pop())\n",
    "        \n",
    "        temp_stack.push(temp)\n",
    "        \n",
    "    return temp_stack"
   ]
  },
  {
   "cell_type": "code",
   "execution_count": 72,
   "metadata": {},
   "outputs": [
    {
     "data": {
      "text/plain": [
       "[5, 4, 3, 2, 1]"
      ]
     },
     "execution_count": 72,
     "metadata": {},
     "output_type": "execute_result"
    }
   ],
   "source": [
    "test_stack = Stack()\n",
    "test_stack.push(5)\n",
    "test_stack.push(2)\n",
    "test_stack.push(3)\n",
    "test_stack.push(1)\n",
    "test_stack.push(4)\n",
    "\n",
    "sortStack(test_stack).items"
   ]
  },
  {
   "cell_type": "markdown",
   "metadata": {},
   "source": [
    "Problem 3.6"
   ]
  },
  {
   "cell_type": "code",
   "execution_count": null,
   "metadata": {},
   "outputs": [],
   "source": []
  },
  {
   "cell_type": "code",
   "execution_count": null,
   "metadata": {},
   "outputs": [],
   "source": []
  }
 ],
 "metadata": {
  "kernelspec": {
   "display_name": "Python 3",
   "language": "python",
   "name": "python3"
  },
  "language_info": {
   "codemirror_mode": {
    "name": "ipython",
    "version": 3
   },
   "file_extension": ".py",
   "mimetype": "text/x-python",
   "name": "python",
   "nbconvert_exporter": "python",
   "pygments_lexer": "ipython3",
   "version": "3.6.4"
  }
 },
 "nbformat": 4,
 "nbformat_minor": 2
}
