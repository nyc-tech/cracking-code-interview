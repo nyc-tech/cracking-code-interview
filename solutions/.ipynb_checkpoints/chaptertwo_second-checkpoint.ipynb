{
 "cells": [
  {
   "cell_type": "code",
   "execution_count": 1,
   "metadata": {},
   "outputs": [],
   "source": [
    "class Node:\n",
    "    def __init__(self, data):\n",
    "        self.data = data\n",
    "        self.next = None "
   ]
  },
  {
   "cell_type": "code",
   "execution_count": 2,
   "metadata": {},
   "outputs": [],
   "source": [
    "class LinkedList:\n",
    "    def __init__(self, head):\n",
    "        self.head = head\n",
    "        self.size = 1\n",
    "    \n",
    "    def insert(self, data):            \n",
    "        self.size += 1\n",
    "        newnode = Node(data)\n",
    "        current = self.head\n",
    "        \n",
    "        while current.next:\n",
    "            current = current.next\n",
    "        current.next = newnode\n",
    "        \n",
    "    def insert_node(self, node):\n",
    "        self.size += 1 \n",
    "        current = self.head\n",
    "        \n",
    "        while current.next:\n",
    "            current = current.next\n",
    "        current.next = node\n",
    "        \n",
    "    def delete(self, value):\n",
    "        self.size -= 1\n",
    "        current = self.head\n",
    "        \n",
    "        if current.data == value:\n",
    "            self.head = current.next\n",
    "            return\n",
    "        \n",
    "        else:\n",
    "            previous = current\n",
    "            current = current.next\n",
    "        \n",
    "        for i in range(self.size):\n",
    "            if current.data == value:\n",
    "                previous.next = current.next\n",
    "            \n",
    "            else:\n",
    "                previous = current\n",
    "                current = current.next"
   ]
  },
  {
   "cell_type": "code",
   "execution_count": 3,
   "metadata": {},
   "outputs": [],
   "source": [
    "def returnlist(linkedlist):\n",
    "    current = linkedlist.head\n",
    "    \n",
    "    while current is not None:\n",
    "        print(current.data)\n",
    "        current = current.next"
   ]
  },
  {
   "cell_type": "code",
   "execution_count": 4,
   "metadata": {},
   "outputs": [],
   "source": [
    "class Stack:\n",
    "    def __init__(self):\n",
    "        self.items = []\n",
    "    \n",
    "    def push(self, item):\n",
    "         self.items.append(item)\n",
    "\n",
    "    def pop(self):\n",
    "         return self.items.pop()\n",
    "        \n",
    "    def size(self):\n",
    "         return len(self.items)"
   ]
  },
  {
   "cell_type": "markdown",
   "metadata": {},
   "source": [
    "Problem 2.6"
   ]
  },
  {
   "cell_type": "code",
   "execution_count": 5,
   "metadata": {},
   "outputs": [],
   "source": [
    "def isPalindrome(linklst):\n",
    "    current_one = linklst.head\n",
    "    temp_stack = Stack()\n",
    "    \n",
    "    while current_one is not None:\n",
    "        temp_stack.push(current_one.data)\n",
    "        current_one = current_one.next\n",
    "    \n",
    "    current_two = linklst.head\n",
    "    \n",
    "    while current_two is not None:\n",
    "        if temp_stack.pop() != current_two.data:\n",
    "            return False\n",
    "        current_two = current_two.next\n",
    "    \n",
    "    return True"
   ]
  },
  {
   "cell_type": "code",
   "execution_count": 6,
   "metadata": {},
   "outputs": [
    {
     "data": {
      "text/plain": [
       "True"
      ]
     },
     "execution_count": 6,
     "metadata": {},
     "output_type": "execute_result"
    }
   ],
   "source": [
    "node_one = Node('G')\n",
    "\n",
    "list_one = LinkedList(node_one)\n",
    "\n",
    "list_one.insert('O')\n",
    "list_one.insert('D')\n",
    "list_one.insert('B')\n",
    "list_one.insert('D')\n",
    "list_one.insert('O')\n",
    "list_one.insert('G')\n",
    "\n",
    "isPalindrome(list_one)"
   ]
  },
  {
   "cell_type": "code",
   "execution_count": 7,
   "metadata": {},
   "outputs": [
    {
     "data": {
      "text/plain": [
       "False"
      ]
     },
     "execution_count": 7,
     "metadata": {},
     "output_type": "execute_result"
    }
   ],
   "source": [
    "node_two = Node('G')\n",
    "\n",
    "list_two = LinkedList(node_two)\n",
    "\n",
    "list_two.insert('B')\n",
    "list_two.insert('O')\n",
    "list_two.insert('D')\n",
    "\n",
    "isPalindrome(list_two)"
   ]
  },
  {
   "cell_type": "markdown",
   "metadata": {},
   "source": [
    "Problem 2.7"
   ]
  },
  {
   "cell_type": "code",
   "execution_count": 8,
   "metadata": {},
   "outputs": [],
   "source": [
    "def Intersection(lstone, lsttwo):    \n",
    "    current_one = lstone.head\n",
    "    current_two = lsttwo.head\n",
    "    \n",
    "    size_one = 0\n",
    "    size_two = 0\n",
    "    \n",
    "    while current_one is not None:\n",
    "        size_one += 1\n",
    "        current_one = current_one.next\n",
    "    \n",
    "    while current_two is not None:\n",
    "        size_two += 1\n",
    "        current_two = current_two.next\n",
    "        \n",
    "    diff = abs(size_one - size_two)\n",
    "    \n",
    "    current_one = lstone.head\n",
    "    current_two = lsttwo.head\n",
    "    \n",
    "    if size_one > size_two:\n",
    "        for i in range(diff):\n",
    "            current_one = current_one.next\n",
    "    elif size_two > size_one:\n",
    "        current_two = current_two.next\n",
    "    \n",
    "    while current_one != current_two:\n",
    "        current_one = current_one.next\n",
    "        current_two = current_two.next\n",
    "    \n",
    "    return current_one  "
   ]
  },
  {
   "cell_type": "code",
   "execution_count": 9,
   "metadata": {},
   "outputs": [],
   "source": [
    "node1 = Node(5)\n",
    "node2 = Node(4)\n",
    "node3 = Node(3)\n",
    "node4 = Node(2)\n",
    "node5 = Node(1)\n",
    "\n",
    "linkedlist1 = LinkedList(node1)\n",
    "\n",
    "linkedlist1.insert_node(node2)\n",
    "linkedlist1.insert_node(node3)\n",
    "linkedlist1.insert_node(node4)\n",
    "linkedlist1.insert_node(node5)"
   ]
  },
  {
   "cell_type": "code",
   "execution_count": 10,
   "metadata": {},
   "outputs": [
    {
     "data": {
      "text/plain": [
       "<__main__.Node at 0x22a781babe0>"
      ]
     },
     "execution_count": 10,
     "metadata": {},
     "output_type": "execute_result"
    }
   ],
   "source": [
    "node8 = Node(6)\n",
    "\n",
    "linkedlist2 = LinkedList(node8)\n",
    "linkedlist2.insert_node(node3)\n",
    "\n",
    "Intersection(linkedlist1, linkedlist2)"
   ]
  },
  {
   "cell_type": "code",
   "execution_count": 11,
   "metadata": {},
   "outputs": [],
   "source": [
    "node10 = Node(5)\n",
    "node11 = Node(4)\n",
    "node12 = Node(3)\n",
    "\n",
    "linkedlist3 = LinkedList(node10)\n",
    "linkedlist3.insert_node(node11)\n",
    "linkedlist3.insert_node(node12)\n",
    "\n",
    "node13 = Node(3)\n",
    "node14 = Node(2)\n",
    "node15 = Node(1)\n",
    "\n",
    "linkedlist4 = LinkedList(node13)\n",
    "linkedlist4.insert_node(node14)\n",
    "linkedlist4.insert_node(node15)\n",
    "\n",
    "Intersection(linkedlist3, linkedlist4)"
   ]
  },
  {
   "cell_type": "markdown",
   "metadata": {},
   "source": [
    "Problem 2.8"
   ]
  },
  {
   "cell_type": "code",
   "execution_count": 12,
   "metadata": {},
   "outputs": [],
   "source": [
    "def LoopDetection(lst):\n",
    "    nodes = []\n",
    "    current = lst.head\n",
    "    while current is not None:\n",
    "        if current not in nodes:\n",
    "            nodes.append(current)\n",
    "        else:\n",
    "            return current\n",
    "        current = current.next"
   ]
  },
  {
   "cell_type": "code",
   "execution_count": 15,
   "metadata": {},
   "outputs": [
    {
     "data": {
      "text/plain": [
       "<__main__.Node at 0x22a781aa128>"
      ]
     },
     "execution_count": 15,
     "metadata": {},
     "output_type": "execute_result"
    }
   ],
   "source": [
    "newnode1 = Node(1)\n",
    "newnode2 = Node(2)\n",
    "newnode3 = Node(3)\n",
    "newnode4 = Node(4)\n",
    "newnode5 = Node(5)\n",
    "\n",
    "linklist = LinkedList(newnode1)\n",
    "linklist.insert_node(newnode2)\n",
    "linklist.insert_node(newnode3)\n",
    "linklist.insert_node(newnode4)\n",
    "linklist.insert_node(newnode5)\n",
    "linklist.insert_node(newnode3)\n",
    "\n",
    "LoopDetection(linklist)"
   ]
  }
 ],
 "metadata": {
  "kernelspec": {
   "display_name": "Python 3",
   "language": "python",
   "name": "python3"
  },
  "language_info": {
   "codemirror_mode": {
    "name": "ipython",
    "version": 3
   },
   "file_extension": ".py",
   "mimetype": "text/x-python",
   "name": "python",
   "nbconvert_exporter": "python",
   "pygments_lexer": "ipython3",
   "version": "3.6.4"
  }
 },
 "nbformat": 4,
 "nbformat_minor": 2
}
